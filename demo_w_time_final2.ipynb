{
 "cells": [
  {
   "cell_type": "markdown",
   "id": "a29d460c",
   "metadata": {},
   "source": [
    "# DEMO - Codes for the Graphs"
   ]
  },
  {
   "cell_type": "markdown",
   "id": "a92948a3",
   "metadata": {},
   "source": [
    "## Percantage of Conversations Participated by the Airlines"
   ]
  },
  {
   "cell_type": "code",
   "execution_count": null,
   "id": "720e3753",
   "metadata": {},
   "outputs": [
    {
     "name": "stdout",
     "output_type": "stream",
     "text": [
      "\n",
      "Analyzing data for: May 2019\n",
      "Replied CSV: C:/Users/20243898/Downloads/tweets_classified_Lufthansa.csv\n",
      "Not Replied CSV: C:/Users/20243898/Downloads/tweets_wo_reply_classified.csv\n",
      "Plots to: C:\\Users\\20243898\\Downloads\\lufthansa_topic_reply_monthly_2019_05\n"
     ]
    },
    {
     "name": "stderr",
     "output_type": "stream",
     "text": [
      "C:\\Users\\20243898\\AppData\\Local\\Temp\\ipykernel_23516\\3767235907.py:40: UserWarning: Could not infer format, so each element will be parsed individually, falling back to `dateutil`. To ensure parsing is consistent and as-expected, please specify a format.\n",
      "  df_temp[date_col] = pd.to_datetime(df_temp[date_col], errors='coerce')\n"
     ]
    },
    {
     "name": "stdout",
     "output_type": "stream",
     "text": [
      "  tweets_classified_Lufthansa.csv: Loaded 51433, Filtered to 1310 for 2019-05\n"
     ]
    },
    {
     "name": "stderr",
     "output_type": "stream",
     "text": [
      "C:\\Users\\20243898\\AppData\\Local\\Temp\\ipykernel_23516\\3767235907.py:40: UserWarning: Could not infer format, so each element will be parsed individually, falling back to `dateutil`. To ensure parsing is consistent and as-expected, please specify a format.\n",
      "  df_temp[date_col] = pd.to_datetime(df_temp[date_col], errors='coerce')\n"
     ]
    },
    {
     "name": "stdout",
     "output_type": "stream",
     "text": [
      "  tweets_wo_reply_classified.csv: Loaded 82790, Filtered to 1035 for 2019-05\n",
      "\n",
      "Combined Counts for May 2019:\n",
      "                               Lufthansa Replied  Lufthansa Did Not Reply\n",
      "primary_topic                                                           \n",
      "contact / reachability                      588                      290\n",
      "other                                       304                      461\n",
      "baggage / luggage issues                    191                       77\n",
      "seat / upgrade issues                       105                       94\n",
      "app / website issues                         74                       32\n",
      "flight delay or cancellation                 27                       69\n",
      "refund or compensation                       21                       12\n"
     ]
    }
   ],
   "source": [
    "import pandas as pd\n",
    "import matplotlib.pyplot as plt\n",
    "import matplotlib.ticker as mticker\n",
    "import seaborn as sns\n",
    "import os\n",
    "import datetime \n",
    "\n",
    "# configuration\n",
    "REPLIED_TOPICS_CSV_PATH = r\"C:/Users/20243898/Downloads/tweets_classified_Lufthansa.csv\"\n",
    "NOT_REPLIED_TOPICS_CSV_PATH = r\"C:/Users/20243898/Downloads/tweets_wo_reply_classified.csv\"\n",
    "\n",
    "TARGET_YEAR = 2019  \n",
    "TARGET_MONTH = 5    \n",
    "\n",
    "month_name_for_print = datetime.datetime(TARGET_YEAR, TARGET_MONTH, 1).strftime('%B %Y')\n",
    "print(f\"\\nAnalyzing data for: {month_name_for_print}\")\n",
    "\n",
    "PLOTS_OUTPUT_DIR = os.path.join(os.path.expanduser('~'), 'Downloads', f'lufthansa_topic_reply_monthly_{TARGET_YEAR}_{TARGET_MONTH:02d}')\n",
    "os.makedirs(PLOTS_OUTPUT_DIR, exist_ok=True)\n",
    "print(f\"Replied CSV: {REPLIED_TOPICS_CSV_PATH}\\nNot Replied CSV: {NOT_REPLIED_TOPICS_CSV_PATH}\\nPlots to: {PLOTS_OUTPUT_DIR}\")\n",
    "\n",
    "TOPIC_COLUMN_NAME_IN_CSV = 'primary_topic'\n",
    "\n",
    "DATE_COLUMN_NAME_IN_CSV = 'created_at' \n",
    "\n",
    "sns.set_style(\"whitegrid\"); pd.options.display.float_format = '{:.1f}'.format\n",
    "\n",
    "# load data\n",
    "def load_filter_and_count_topics(file_path, topic_col, date_col, year, month):\n",
    "    df_temp = pd.DataFrame()\n",
    "    if not os.path.exists(file_path): print(f\"ERROR: File not found: {file_path}\"); return pd.Series(dtype='int64')\n",
    "    try:\n",
    "        df_temp = pd.read_csv(file_path, low_memory=False)\n",
    "        if topic_col not in df_temp.columns: print(f\"ERROR: Topic col '{topic_col}' missing in {file_path}\"); return pd.Series(dtype='int64')\n",
    "        if date_col not in df_temp.columns: print(f\"ERROR: Date col '{date_col}' missing in {file_path}\"); return pd.Series(dtype='int64')\n",
    "        \n",
    "        df_temp[date_col] = pd.to_datetime(df_temp[date_col], errors='coerce')\n",
    "        if df_temp[date_col].isnull().all() and len(df_temp) > 0: print(f\"WARN: All dates NaT in {file_path}\"); return pd.Series(dtype='int64')\n",
    "            \n",
    "        df_filtered = df_temp[df_temp[date_col].notna() & (df_temp[date_col].dt.year == year) & (df_temp[date_col].dt.month == month)]\n",
    "        print(f\"  {os.path.basename(file_path)}: Loaded {len(df_temp)}, Filtered to {len(df_filtered)} for {year}-{month:02d}\")\n",
    "        if df_filtered.empty: return pd.Series(dtype='int64')\n",
    "        return df_filtered[topic_col].fillna('Unknown Topic').astype('category').value_counts()\n",
    "    except Exception as e: print(f\"Error processing {file_path}: {e}\"); return pd.Series(dtype='int64')\n",
    "\n",
    "replied_counts = load_filter_and_count_topics(REPLIED_TOPICS_CSV_PATH, TOPIC_COLUMN_NAME_IN_CSV, DATE_COLUMN_NAME_IN_CSV, TARGET_YEAR, TARGET_MONTH).rename('Lufthansa Replied')\n",
    "not_replied_counts = load_filter_and_count_topics(NOT_REPLIED_TOPICS_CSV_PATH, TOPIC_COLUMN_NAME_IN_CSV, DATE_COLUMN_NAME_IN_CSV, TARGET_YEAR, TARGET_MONTH).rename('Lufthansa Did Not Reply')\n",
    "\n",
    "# plot graph\n",
    "if not replied_counts.empty or not not_replied_counts.empty:\n",
    "    df_plot = pd.concat([replied_counts, not_replied_counts], axis=1).fillna(0).astype(int)\n",
    "    df_plot['total'] = df_plot.sum(axis=1)\n",
    "    df_plot = df_plot.sort_values('total', ascending=False).drop(columns='total')\n",
    "    \n",
    "    print(f\"\\nCombined Counts for {month_name_for_print}:\\n\", df_plot)\n",
    "    if not df_plot.empty and df_plot.sum().sum() > 0 : # Check if there is any data to plot\n",
    "        plot_df_final = df_plot.head(15)[['Lufthansa Replied', 'Lufthansa Did Not Reply']]\n",
    "        if not plot_df_final.empty and plot_df_final.sum().sum() > 0:\n",
    "            ax = plot_df_final.plot(kind='bar',stacked=True,figsize=(14,8),color={'Lufthansa Replied':'green','Lufthansa Did Not Reply':'red'})\n",
    "            plt.title(f'Lufthansa Reply Status by Topic - {month_name_for_print} (Top 15)', fontsize=14)\n",
    "            plt.ylabel('Number of Tweets', fontsize=12); plt.xlabel('Topic Category', fontsize=12)\n",
    "            plt.xticks(rotation=45,ha=\"right\",fontsize=10); plt.yticks(fontsize=10)\n",
    "            plt.legend(title='Response Status',loc='upper right')\n",
    "            for c in ax.containers: ax.bar_label(c,labels=[f'{int(v.get_height()):,}' if v.get_height()>0 else '' for v in c],label_type='center',fontsize=8,color='white',weight='bold')\n",
    "            plt.tight_layout(); plt.savefig(os.path.join(PLOTS_OUTPUT_DIR,f'lh_reply_status_{TARGET_YEAR}_{TARGET_MONTH:02d}.png')); plt.show()\n",
    "        else: print(f\"No data to plot for top topics in {month_name_for_print}.\")\n",
    "    else: print(f\"No aggregated data with counts > 0 for {month_name_for_print}.\")\n",
    "else: print(f\"No data processed for {month_name_for_print}. Check CSVs or filters.\")\n",
    "print(f\"\\n--- Analysis for {month_name_for_print} Complete ---\")"
   ]
  }
 ],
 "metadata": {
  "kernelspec": {
   "display_name": "base",
   "language": "python",
   "name": "python3"
  },
  "language_info": {
   "codemirror_mode": {
    "name": "ipython",
    "version": 3
   },
   "file_extension": ".py",
   "mimetype": "text/x-python",
   "name": "python",
   "nbconvert_exporter": "python",
   "pygments_lexer": "ipython3",
   "version": "3.11.7"
  }
 },
 "nbformat": 4,
 "nbformat_minor": 5
}
