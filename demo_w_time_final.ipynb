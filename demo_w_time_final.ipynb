{
 "cells": [
  {
   "cell_type": "markdown",
   "id": "cdd673e0",
   "metadata": {},
   "source": [
    "## Reply Count for Topics with Time Filter"
   ]
  },
  {
   "cell_type": "code",
   "execution_count": 4,
   "id": "244eeaf5",
   "metadata": {},
   "outputs": [
    {
     "name": "stderr",
     "output_type": "stream",
     "text": [
      "C:\\Users\\20243898\\AppData\\Local\\Temp\\ipykernel_24164\\1572503320.py:23: UserWarning: Could not infer format, so each element will be parsed individually, falling back to `dateutil`. To ensure parsing is consistent and as-expected, please specify a format.\n",
      "  df = pd.read_csv(csv_path, parse_dates=[DATE_COL], low_memory=False)\n",
      "C:\\Users\\20243898\\AppData\\Local\\Temp\\ipykernel_24164\\1572503320.py:23: UserWarning: Could not infer format, so each element will be parsed individually, falling back to `dateutil`. To ensure parsing is consistent and as-expected, please specify a format.\n",
      "  df = pd.read_csv(csv_path, parse_dates=[DATE_COL], low_memory=False)\n"
     ]
    },
    {
     "name": "stdout",
     "output_type": "stream",
     "text": [
      "Plot saved to: C:\\Users\\20243898\\Downloads\\lufthansa_topic_reply_status_monthly\\lufthansa_reply_status_2019_05.png\n"
     ]
    }
   ],
   "source": [
    "import pandas as pd\n",
    "import matplotlib.pyplot as plt\n",
    "from pathlib import Path\n",
    "from datetime import datetime\n",
    "\n",
    "# configuration\n",
    "TARGET_YEAR  = 2019          # year to filter\n",
    "TARGET_MONTH = 5             # month to filter\n",
    "\n",
    "#define exact name of the column in your CSVs that contains the topic labels\n",
    "TOPIC_COL    = 'primary_topic'\n",
    "#define the name of the date column in your CSVs \n",
    "DATE_COL     = 'created_at'\n",
    "\n",
    "REPLIED_CSV      = Path(r\"C:/Users/20243898/Downloads/tweets_classified_Lufthansa.csv\")\n",
    "NOT_REPLIED_CSV  = Path(r\"C:/Users/20243898/Downloads/tweets_wo_reply_classified.csv\")\n",
    "OUT_DIR          = Path.home() / 'Downloads' / 'lufthansa_topic_reply_status_monthly'\n",
    "OUT_DIR.mkdir(exist_ok=True, parents=True)\n",
    "\n",
    "# \n",
    "def topic_counts(csv_path: Path) -> pd.Series:\n",
    "    \"\"\"Return tweet-count per topic for TARGET_YEAR / TARGET_MONTH.\"\"\"\n",
    "    df = pd.read_csv(csv_path, parse_dates=[DATE_COL], low_memory=False)\n",
    "    mask = (df[DATE_COL].dt.year == TARGET_YEAR) & (df[DATE_COL].dt.month == TARGET_MONTH)\n",
    "    return (\n",
    "        df.loc[mask, TOPIC_COL]\n",
    "        .fillna('Unknown Topic')\n",
    "        .astype('category')\n",
    "        .value_counts()\n",
    "    )\n",
    "\n",
    "# loading the dara\n",
    "replied     = topic_counts(REPLIED_CSV).rename('Lufthansa Replied')\n",
    "not_replied = topic_counts(NOT_REPLIED_CSV).rename('No Reply')\n",
    "\n",
    "plot_df = (\n",
    "    pd.concat([replied, not_replied], axis=1)\n",
    "      .fillna(0)\n",
    "      .astype(int)\n",
    "      .assign(total=lambda x: x.sum(axis=1))\n",
    "      .sort_values('total', ascending=False)\n",
    "      .drop(columns='total')\n",
    "      .head(15)                               \n",
    ")\n",
    "\n",
    "# plotting the graph\n",
    "ax = plot_df.plot(\n",
    "    kind='bar',\n",
    "    stacked=True,\n",
    "    figsize=(14, 8),\n",
    "    color={'Lufthansa Replied': 'green', 'No Reply': 'red'}\n",
    ")\n",
    "\n",
    "month_name = datetime(TARGET_YEAR, TARGET_MONTH, 1).strftime('%B %Y')\n",
    "ax.set(\n",
    "    title=f'Lufthansa Reply Status by Topic — {month_name}',\n",
    "    ylabel='Number of Tweets',\n",
    "    xlabel='Topic'\n",
    ")\n",
    "ax.legend(title='Response Status')\n",
    "plt.xticks(rotation=45, ha='right')\n",
    "\n",
    "# add data labels\n",
    "for container in ax.containers:\n",
    "    ax.bar_label(container, labels=[f'{int(v.get_height()):,}' if v.get_height() else '' for v in container],\n",
    "                 label_type='center', fontsize=8, color='white', weight='bold')\n",
    "\n",
    "plt.tight_layout()\n",
    "fname = OUT_DIR / f'lufthansa_reply_status_{TARGET_YEAR}_{TARGET_MONTH:02d}.png'\n",
    "plt.savefig(fname)\n",
    "plt.show()\n",
    "\n",
    "print(f'Plot saved to: {fname}')\n"
   ]
  }
 ],
 "metadata": {
  "kernelspec": {
   "display_name": "base",
   "language": "python",
   "name": "python3"
  },
  "language_info": {
   "codemirror_mode": {
    "name": "ipython",
    "version": 3
   },
   "file_extension": ".py",
   "mimetype": "text/x-python",
   "name": "python",
   "nbconvert_exporter": "python",
   "pygments_lexer": "ipython3",
   "version": "3.11.7"
  }
 },
 "nbformat": 4,
 "nbformat_minor": 5
}
